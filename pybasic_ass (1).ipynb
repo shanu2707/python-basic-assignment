{
 "cells": [
  {
   "cell_type": "markdown",
   "id": "acda083f-0737-4664-b43f-a850b0435515",
   "metadata": {
    "tags": []
   },
   "source": [
    "### 1. Explain the key features of Python that make it a popular choice for programming.\n",
    "EASE OF USE:Python is easy to use,easy to learn and write.Python syntax is very easy as compared to other popular                     languages like C,C++ and Java.You can tell what the code is supposed to do simply by looking at it. \n",
    " \n",
    "LOT OF LIBRARIES:It has an extensive standard library available.This means that programmers don't have to write                            their code for every single thing unlike other programming languages.\n",
    " \n",
    "DATA INDUSTRY:Python is used in data industry as it is compatible with various programming paradigms,such as                            procedural,object-oriented,and functional programming.\n",
    " \n",
    "CONNECT TO MULTIPLE TOOLS: As python connects to multiple tools like VSCode,Pycharms,Google Colab,Anaconda(local                                     Jupiter).  \n",
    "\n",
    "HUGE ACTIVE COMMUNITY:Python has a large and active community of developers,an extensive standard library, and                                 third-party packages for various domains."
   ]
  },
  {
   "cell_type": "markdown",
   "id": "993501eb-600b-4207-bbed-0712913dffb8",
   "metadata": {
    "tags": []
   },
   "source": [
    "### 2. Describe the role of predefined keywords in Python and provide examples of how they are used in a program.\n",
    "Keywords are the predefined words that hold a specical meaning and have special purpose.The role of keywords is to define the syntax of the coding.The keyword cannot be used as an identifier,function,or variable name.\n",
    "\n",
    " Some keywords are:print,type,input,False,True,break,class,continue,while,if-else,return etc.\n",
    " \n",
    "  How they are used in a program let's see-\n"
   ]
  },
  {
   "cell_type": "code",
   "execution_count": 1,
   "id": "01fdb4f2-c1cc-4fdc-ada1-6f06d7d750f9",
   "metadata": {},
   "outputs": [
    {
     "name": "stdout",
     "output_type": "stream",
     "text": [
      "Hello World\n"
     ]
    }
   ],
   "source": [
    "print(\"Hello World\")#print is a keyword"
   ]
  },
  {
   "cell_type": "code",
   "execution_count": 3,
   "id": "0bcd3f83-3aec-4d8a-877c-3d12e1ab603e",
   "metadata": {},
   "outputs": [
    {
     "data": {
      "text/plain": [
       "str"
      ]
     },
     "execution_count": 3,
     "metadata": {},
     "output_type": "execute_result"
    }
   ],
   "source": [
    "type(\"Hello World\")#type is a keyword"
   ]
  },
  {
   "cell_type": "code",
   "execution_count": 4,
   "id": "0ffcda25-2637-4862-ad64-c8df5dc49d7a",
   "metadata": {},
   "outputs": [
    {
     "name": "stdin",
     "output_type": "stream",
     "text": [
      "Enter the no 3\n"
     ]
    },
    {
     "name": "stdout",
     "output_type": "stream",
     "text": [
      "No is Odd\n"
     ]
    }
   ],
   "source": [
    "num=int(input(\"Enter the no\"))#input is a keyword \n",
    "if num%2==0:\n",
    "    print(\"No is Even\")#if is a keyword \n",
    "else:\n",
    "    print(\"No is Odd\")#else is a keyword\n",
    "        "
   ]
  },
  {
   "cell_type": "code",
   "execution_count": 5,
   "id": "608dc79e-6b96-4dbb-8de7-0f6bc9c1e9f8",
   "metadata": {},
   "outputs": [
    {
     "name": "stdout",
     "output_type": "stream",
     "text": [
      "0\n",
      "1\n",
      "2\n",
      "3\n",
      "4\n",
      "5\n",
      "6\n"
     ]
    }
   ],
   "source": [
    "for i in range(7):#for is a keyword\n",
    "    print(i)"
   ]
  },
  {
   "cell_type": "markdown",
   "id": "d14b4dc4-e6df-47a5-8332-b2a4204a89f5",
   "metadata": {
    "tags": []
   },
   "source": [
    "### 3.Compare and contrast mutable and immutable objects in Python with examples.\n",
    "MUTABLE OBJECTS:Objects /Container whose state or value can be changed after they are created are called mutable objects or container also called as item assignment.\n",
    "\n",
    "eg:lists and dictionaries can be modified after creation so they are mutable objects ."
   ]
  },
  {
   "cell_type": "code",
   "execution_count": 9,
   "id": "729d9a95-dd30-49e5-a659-c9de4680e9de",
   "metadata": {},
   "outputs": [
    {
     "data": {
      "text/plain": [
       "['Shalini', 'Manvi', 'Shivam', 'Duggu']"
      ]
     },
     "execution_count": 9,
     "metadata": {},
     "output_type": "execute_result"
    }
   ],
   "source": [
    "#list is a mutable object>>creating a list \n",
    "List_cont=[\"Shalini\",\"Manvi\",\"Shivam\",\"Duggu\"]\n",
    "List_cont"
   ]
  },
  {
   "cell_type": "code",
   "execution_count": 10,
   "id": "852656f3-c82c-47ba-9cd1-40d964fcfdbb",
   "metadata": {},
   "outputs": [
    {
     "data": {
      "text/plain": [
       "['Shalini', 'Manvi', 'Shanu', 'Duggu']"
      ]
     },
     "execution_count": 10,
     "metadata": {},
     "output_type": "execute_result"
    }
   ],
   "source": [
    "#list is a mutable object>>creating a change in above list\n",
    "List_cont[2]=\"Shanu\"\n",
    "List_cont\n"
   ]
  },
  {
   "cell_type": "markdown",
   "id": "09aa6db1-28e3-45af-825a-7980f6bc7587",
   "metadata": {},
   "source": [
    "IMMUTABLE OBJECTS:Objects /Container whose state or value cannot be changed after they are created are called immutable objects.\n",
    "\n",
    "eg:strings and tuples cannot be modified after creation so they are immutable objects."
   ]
  },
  {
   "cell_type": "code",
   "execution_count": 12,
   "id": "380f0608-c91e-4a23-8a31-6ed41807598b",
   "metadata": {},
   "outputs": [
    {
     "ename": "NameError",
     "evalue": "name 'V' is not defined",
     "output_type": "error",
     "traceback": [
      "\u001b[0;31m---------------------------------------------------------------------------\u001b[0m",
      "\u001b[0;31mNameError\u001b[0m                                 Traceback (most recent call last)",
      "Cell \u001b[0;32mIn[12], line 4\u001b[0m\n\u001b[1;32m      1\u001b[0m \u001b[38;5;66;03m#string is a immutable object\u001b[39;00m\n\u001b[1;32m      2\u001b[0m \u001b[38;5;66;03m#string does not support item assignment\u001b[39;00m\n\u001b[1;32m      3\u001b[0m name\u001b[38;5;241m=\u001b[39m\u001b[38;5;124m\"\u001b[39m\u001b[38;5;124mShalini\u001b[39m\u001b[38;5;124m\"\u001b[39m\n\u001b[0;32m----> 4\u001b[0m name[\u001b[38;5;241m0\u001b[39m]\u001b[38;5;241m=\u001b[39m\u001b[43mV\u001b[49m\n\u001b[1;32m      5\u001b[0m name\n",
      "\u001b[0;31mNameError\u001b[0m: name 'V' is not defined"
     ]
    }
   ],
   "source": [
    "#string is a immutable object\n",
    "#string does not support item assignment\n",
    "name=\"Shalini\"\n",
    "name[0]=V\n",
    "name"
   ]
  },
  {
   "cell_type": "markdown",
   "id": "475ed03d-1e44-4e4a-8946-f2311b962596",
   "metadata": {},
   "source": [
    "### 4.Discuss the different types of operators in Python and provide examples of how they are used.\n",
    "There are seven different types of operators:\n",
    "\n",
    "1.ARITHMETIC OPERATORS : Used to do arithmetic operations on values or variables.\n",
    "\n",
    "Eg: Addition:a+b, Subtract:a-b, Multiply:a*b, Divide:a/b, Modulus:a%b, Exponential:a**b, Floor division:a//b etc.\n",
    " "
   ]
  },
  {
   "cell_type": "code",
   "execution_count": 14,
   "id": "e57c0420-244f-472a-9bad-d3d2b9c47d2b",
   "metadata": {},
   "outputs": [
    {
     "data": {
      "text/plain": [
       "58"
      ]
     },
     "execution_count": 14,
     "metadata": {},
     "output_type": "execute_result"
    }
   ],
   "source": [
    "#ARITHMETIC OPERATOR>>\n",
    "a=34\n",
    "b=24\n",
    "a+b"
   ]
  },
  {
   "cell_type": "markdown",
   "id": "cabcc57e-be32-4b80-8f0c-f05f653af91e",
   "metadata": {},
   "source": [
    "2.COMPARISON OPERATOR : Compare two values and return a boolean value.\n",
    "\n",
    "Eg:Compare to be equal:==, Greater and equal:>=, Not equal:!=, Less than:<, Less than and equal:<= etc."
   ]
  },
  {
   "cell_type": "code",
   "execution_count": 15,
   "id": "f4a2605d-8f66-45fa-9f36-fe4e7149a925",
   "metadata": {},
   "outputs": [
    {
     "data": {
      "text/plain": [
       "True"
      ]
     },
     "execution_count": 15,
     "metadata": {},
     "output_type": "execute_result"
    }
   ],
   "source": [
    "#COMPARISON OPERATOR>>\n",
    "10>=2"
   ]
  },
  {
   "cell_type": "code",
   "execution_count": 16,
   "id": "67c95d0b-20d4-4ad0-abc9-bcf35b062e3b",
   "metadata": {},
   "outputs": [
    {
     "data": {
      "text/plain": [
       "False"
      ]
     },
     "execution_count": 16,
     "metadata": {},
     "output_type": "execute_result"
    }
   ],
   "source": [
    "6!=6"
   ]
  },
  {
   "cell_type": "markdown",
   "id": "2b7b63cc-4c4e-4755-9a5c-528acf664002",
   "metadata": {},
   "source": [
    "3.LOGICAL OPERATOR : And,Or,Not"
   ]
  },
  {
   "cell_type": "code",
   "execution_count": 17,
   "id": "8481fab8-a3ba-40f9-8c54-8a2c6e747f83",
   "metadata": {},
   "outputs": [
    {
     "data": {
      "text/plain": [
       "True"
      ]
     },
     "execution_count": 17,
     "metadata": {},
     "output_type": "execute_result"
    }
   ],
   "source": [
    "#LOGICAL OPERATOR>>\n",
    "True and True\n"
   ]
  },
  {
   "cell_type": "code",
   "execution_count": 18,
   "id": "015b6797-1b2c-45cb-9858-99565adaa92e",
   "metadata": {},
   "outputs": [
    {
     "data": {
      "text/plain": [
       "True"
      ]
     },
     "execution_count": 18,
     "metadata": {},
     "output_type": "execute_result"
    }
   ],
   "source": [
    "False or True"
   ]
  },
  {
   "cell_type": "code",
   "execution_count": 19,
   "id": "9bdc6641-02f2-4c31-a90a-a2ba2adee6bb",
   "metadata": {},
   "outputs": [
    {
     "data": {
      "text/plain": [
       "0"
      ]
     },
     "execution_count": 19,
     "metadata": {},
     "output_type": "execute_result"
    }
   ],
   "source": [
    "0 and 1"
   ]
  },
  {
   "cell_type": "code",
   "execution_count": 20,
   "id": "86b50639-5e23-4990-a538-3869c327c4ea",
   "metadata": {},
   "outputs": [
    {
     "data": {
      "text/plain": [
       "1"
      ]
     },
     "execution_count": 20,
     "metadata": {},
     "output_type": "execute_result"
    }
   ],
   "source": [
    "0 or 1"
   ]
  },
  {
   "cell_type": "code",
   "execution_count": 21,
   "id": "e591640a-569d-4ad8-971f-c511dc55dd77",
   "metadata": {},
   "outputs": [
    {
     "data": {
      "text/plain": [
       "False"
      ]
     },
     "execution_count": 21,
     "metadata": {},
     "output_type": "execute_result"
    }
   ],
   "source": [
    "not True"
   ]
  },
  {
   "cell_type": "markdown",
   "id": "bb75c230-4c01-4d57-b2af-b6cd3dff6215",
   "metadata": {},
   "source": [
    "4.ASSIGNMENT OPERATOR : Used to assign a value to a variable."
   ]
  },
  {
   "cell_type": "code",
   "execution_count": 22,
   "id": "aa938e75-9d8d-4cae-8b65-ccbe8a1e805e",
   "metadata": {},
   "outputs": [
    {
     "data": {
      "text/plain": [
       "12"
      ]
     },
     "execution_count": 22,
     "metadata": {},
     "output_type": "execute_result"
    }
   ],
   "source": [
    "#ASSIGNMENT OPERATOR>>\n",
    "a=10\n",
    "a+=2 #a=a+2\n",
    "a"
   ]
  },
  {
   "cell_type": "markdown",
   "id": "8eac3140-4276-4c21-8343-380641ee6039",
   "metadata": {},
   "source": [
    "5. MEMBERSHIP OPERATOR : Used to check whether the string is present or not. "
   ]
  },
  {
   "cell_type": "code",
   "execution_count": 23,
   "id": "1ec737ed-065a-4238-a25c-4055642d201b",
   "metadata": {},
   "outputs": [
    {
     "data": {
      "text/plain": [
       "True"
      ]
     },
     "execution_count": 23,
     "metadata": {},
     "output_type": "execute_result"
    }
   ],
   "source": [
    "#MEMBERSHIP OPERATOR>>\n",
    "grocery_list=[\"handwash\",\"soap\",\"cereals\",\"coffee\"]\n",
    "\"coffee\" in grocery_list"
   ]
  },
  {
   "cell_type": "code",
   "execution_count": 24,
   "id": "d2b1aee7-9979-4f90-82ee-dfa0663fa7e2",
   "metadata": {},
   "outputs": [
    {
     "data": {
      "text/plain": [
       "False"
      ]
     },
     "execution_count": 24,
     "metadata": {},
     "output_type": "execute_result"
    }
   ],
   "source": [
    "\"chocolates\" in grocery_list # chocolates is not present in above grocery_list so it returns False."
   ]
  },
  {
   "cell_type": "markdown",
   "id": "445716bf-6189-4b5c-bf5e-8f8d2e42d910",
   "metadata": {},
   "source": [
    "6. IDENTITY OPERATOR : Compare the location of two object/variable."
   ]
  },
  {
   "cell_type": "markdown",
   "id": "54966d0a-6eda-4dcf-9d13-1c6e7483dd1e",
   "metadata": {},
   "source": [
    "#IDENTITY OPERATOR>>\n",
    "a=4\n",
    "b=a\n",
    "a is b"
   ]
  },
  {
   "cell_type": "code",
   "execution_count": 26,
   "id": "4ea4f1e9-7e77-48f6-9f1a-feb7e436ba8e",
   "metadata": {},
   "outputs": [
    {
     "data": {
      "text/plain": [
       "True"
      ]
     },
     "execution_count": 26,
     "metadata": {},
     "output_type": "execute_result"
    }
   ],
   "source": [
    "a=3\n",
    "b=2\n",
    "a is not b"
   ]
  },
  {
   "cell_type": "markdown",
   "id": "509c4441-464e-4dbe-9547-1b9f0accddfb",
   "metadata": {},
   "source": [
    "7. BITWISE OPERATOR : Operations at bit level,manipulating individual bits within integer.\n",
    "\n",
    " Eg: And operator:& , Or operator:| , XOR operator:^ , negation:~ , Shift operator:<< or >>."
   ]
  },
  {
   "cell_type": "code",
   "execution_count": 27,
   "id": "59b85d25-6d80-4c8a-995b-9625e5fa1857",
   "metadata": {},
   "outputs": [
    {
     "data": {
      "text/plain": [
       "10"
      ]
     },
     "execution_count": 27,
     "metadata": {},
     "output_type": "execute_result"
    }
   ],
   "source": [
    "#BITWISE OPERATOR>>\n",
    "#And operator>>&\n",
    "10 & 10"
   ]
  },
  {
   "cell_type": "code",
   "execution_count": 28,
   "id": "6a7e9934-5e32-4816-9682-5231e50f4e5f",
   "metadata": {},
   "outputs": [
    {
     "data": {
      "text/plain": [
       "7"
      ]
     },
     "execution_count": 28,
     "metadata": {},
     "output_type": "execute_result"
    }
   ],
   "source": [
    "#Or operator>>|\n",
    "4|7"
   ]
  },
  {
   "cell_type": "code",
   "execution_count": 29,
   "id": "6d6edd8e-7b59-4aa9-9c03-0a2913069052",
   "metadata": {},
   "outputs": [
    {
     "data": {
      "text/plain": [
       "6"
      ]
     },
     "execution_count": 29,
     "metadata": {},
     "output_type": "execute_result"
    }
   ],
   "source": [
    "#XOR operator>>^\n",
    "5^3"
   ]
  },
  {
   "cell_type": "code",
   "execution_count": 30,
   "id": "0551d640-eac9-4817-b85f-cec15f3e2d1f",
   "metadata": {},
   "outputs": [
    {
     "data": {
      "text/plain": [
       "-57"
      ]
     },
     "execution_count": 30,
     "metadata": {},
     "output_type": "execute_result"
    }
   ],
   "source": [
    "#negation>>~\n",
    "~56"
   ]
  },
  {
   "cell_type": "code",
   "execution_count": 31,
   "id": "73503452-cae1-4ed0-b684-39679037031b",
   "metadata": {},
   "outputs": [
    {
     "data": {
      "text/plain": [
       "280"
      ]
     },
     "execution_count": 31,
     "metadata": {},
     "output_type": "execute_result"
    }
   ],
   "source": [
    "#shift operator\n",
    "#left shift operator:<<\n",
    "35<<3"
   ]
  },
  {
   "cell_type": "code",
   "execution_count": 32,
   "id": "065c9d14-a58e-4816-9de7-cdbc45c33e44",
   "metadata": {},
   "outputs": [
    {
     "data": {
      "text/plain": [
       "4"
      ]
     },
     "execution_count": 32,
     "metadata": {},
     "output_type": "execute_result"
    }
   ],
   "source": [
    "#right shift operator:>>\n",
    "35>>3"
   ]
  },
  {
   "cell_type": "markdown",
   "id": "860e4cc3-95af-48e8-adae-0a29b3a12cb9",
   "metadata": {},
   "source": [
    "### 5. Explain the concept of type casting in Python with examples.\n",
    "Typecasting refers to type conversion i.e. the process of changing the data type of a value/object.\n",
    "\n",
    "It is necessary, while executing/computation using operators ,there can be mismatch between the data types.\n",
    "\n",
    "Typecasting is of two types-\n",
    "\n",
    "IMPLICIT TYPECASTING\n",
    "\n",
    "In Implicit Typecasting python understands the data type.It includes the in-built function like-str,int, float,bool etc.\n",
    "\n",
    "EXPLICIT TYPECASTING\n",
    "\n",
    "In Explicit Typecasting python convert the data type using in-built function."
   ]
  },
  {
   "cell_type": "code",
   "execution_count": 33,
   "id": "23810ba9-4649-4696-a4fe-6a44dfdcbe3e",
   "metadata": {},
   "outputs": [
    {
     "data": {
      "text/plain": [
       "5"
      ]
     },
     "execution_count": 33,
     "metadata": {},
     "output_type": "execute_result"
    }
   ],
   "source": [
    "#string to integer>>explicit typecasting\n",
    "a=\"2\"\n",
    "b=3\n",
    "int(a)+b"
   ]
  },
  {
   "cell_type": "code",
   "execution_count": 34,
   "id": "793b421b-b54f-48d3-ae48-29c19fe65a73",
   "metadata": {},
   "outputs": [
    {
     "data": {
      "text/plain": [
       "int"
      ]
     },
     "execution_count": 34,
     "metadata": {},
     "output_type": "execute_result"
    }
   ],
   "source": [
    "#float to integer>>explicit typecasting\n",
    "a=6.78\n",
    "type(a)\n",
    "float_val=int(a)\n",
    "type(float_val)"
   ]
  },
  {
   "cell_type": "code",
   "execution_count": 35,
   "id": "6a0717b9-bcf4-46ba-9b1a-156031538bd8",
   "metadata": {},
   "outputs": [
    {
     "data": {
      "text/plain": [
       "7.5"
      ]
     },
     "execution_count": 35,
     "metadata": {},
     "output_type": "execute_result"
    }
   ],
   "source": [
    "#implicit typecasting\n",
    "2+5.5"
   ]
  },
  {
   "cell_type": "code",
   "execution_count": 36,
   "id": "fc38c7fd-3f36-476b-94c9-ebc8af7dac14",
   "metadata": {},
   "outputs": [
    {
     "data": {
      "text/plain": [
       "True"
      ]
     },
     "execution_count": 36,
     "metadata": {},
     "output_type": "execute_result"
    }
   ],
   "source": [
    "#boolean typecasting>>\n",
    "bool(\"Shalini\")"
   ]
  },
  {
   "cell_type": "code",
   "execution_count": 37,
   "id": "8d718a30-5bf0-4877-b58e-de5845832ad9",
   "metadata": {},
   "outputs": [
    {
     "data": {
      "text/plain": [
       "True"
      ]
     },
     "execution_count": 37,
     "metadata": {},
     "output_type": "execute_result"
    }
   ],
   "source": [
    "bool(0.5)"
   ]
  },
  {
   "cell_type": "code",
   "execution_count": 38,
   "id": "26002374-020f-4961-ada1-104af8ab5502",
   "metadata": {},
   "outputs": [
    {
     "data": {
      "text/plain": [
       "True"
      ]
     },
     "execution_count": 38,
     "metadata": {},
     "output_type": "execute_result"
    }
   ],
   "source": [
    "bool(\"3.5\")"
   ]
  },
  {
   "cell_type": "code",
   "execution_count": 40,
   "id": "a6cb893c-25d8-49ef-994c-1588473391bd",
   "metadata": {},
   "outputs": [
    {
     "data": {
      "text/plain": [
       "False"
      ]
     },
     "execution_count": 40,
     "metadata": {},
     "output_type": "execute_result"
    }
   ],
   "source": [
    "bool(\"\")#Empty string"
   ]
  },
  {
   "cell_type": "markdown",
   "id": "9de87fa8-78e9-4929-883c-166f37680915",
   "metadata": {},
   "source": [
    "### 6. How do conditional statements work in Python? Illustrate with examples.\n",
    "Conditionals in Python are used to execute code based on the evaluation of one or more conditions.\n",
    "\n",
    "Cnditional staements like-if,if-else,if-elif(else-if)-else,nested if-else used to control the flow of execution."
   ]
  },
  {
   "cell_type": "code",
   "execution_count": 41,
   "id": "328e57d7-7f98-48b7-a00d-02ad57cc541e",
   "metadata": {},
   "outputs": [
    {
     "name": "stdout",
     "output_type": "stream",
     "text": [
      "The number is greater than 0\n"
     ]
    }
   ],
   "source": [
    "#IF STATEMENT>>\n",
    "a=100\n",
    "if a>0:\n",
    "    print(\"The number is greater than 0\")"
   ]
  },
  {
   "cell_type": "code",
   "execution_count": 42,
   "id": "cdb6f690-c130-4e87-92de-cbf14e57c5a7",
   "metadata": {},
   "outputs": [
    {
     "name": "stdout",
     "output_type": "stream",
     "text": [
      "You are eligible for vote\n"
     ]
    }
   ],
   "source": [
    "#IF ELSE STATEMENT>>\n",
    "age=18\n",
    "if age>=18:\n",
    "    print(\"You are eligible for vote\")\n",
    "else:\n",
    "    print(\"You are not eligible for vote\")"
   ]
  },
  {
   "cell_type": "code",
   "execution_count": 43,
   "id": "b4f6d024-16ac-420b-be28-ee6b4756058f",
   "metadata": {},
   "outputs": [
    {
     "name": "stdout",
     "output_type": "stream",
     "text": [
      "You are senior citizen\n"
     ]
    }
   ],
   "source": [
    "#IF-ELIF-ELSE>>here we can create multiple elif statements\n",
    "age=80\n",
    "if age<18:\n",
    "    print(\"You are minority\")\n",
    "elif 18<age<=65:\n",
    "    print(\"You are adult\")\n",
    "else:\n",
    "    print(\"You are senior citizen\")\n",
    "    "
   ]
  },
  {
   "cell_type": "code",
   "execution_count": 44,
   "id": "4cc04445-0b05-46a0-8c59-932d41fc61ba",
   "metadata": {},
   "outputs": [
    {
     "name": "stdout",
     "output_type": "stream",
     "text": [
      "x is not greater than 5\n"
     ]
    }
   ],
   "source": [
    "#NESTED IF ELSE>>can have multiple if else inside if else\n",
    "x=1\n",
    "y=6\n",
    "if x>5:\n",
    "    if y>5:\n",
    "        print(\"Both x and y is greater than 5\")\n",
    "    else:\n",
    "        print(\"x is greater than 5 but y is less than 5\")\n",
    "else:\n",
    "    print(\"x is not greater than 5\")"
   ]
  },
  {
   "cell_type": "markdown",
   "id": "b6adf636-3ce7-46f1-b410-e4d3c26394fa",
   "metadata": {},
   "source": [
    "### 7. Describe the different types of loops in Python and their use cases with examples.\n",
    " Loops are employed to repeat a sequence of actions or code until a specific condition is fulfilled. \n",
    " \n",
    " Their are two different types of loops in python-\n",
    " \n",
    " While loop-Repeatedly executed a block of code until the condition is met.\n",
    " \n",
    " for loop-iterate over a sequence of elements."
   ]
  },
  {
   "cell_type": "code",
   "execution_count": 45,
   "id": "2ba16ded-2574-4610-b997-0a74b70dd405",
   "metadata": {},
   "outputs": [
    {
     "name": "stdout",
     "output_type": "stream",
     "text": [
      "5\n",
      "4\n",
      "3\n",
      "2\n",
      "1\n"
     ]
    }
   ],
   "source": [
    "#while loop>>\n",
    "num=5\n",
    "while num>0:\n",
    "    print(num)\n",
    "    num=num-1"
   ]
  },
  {
   "cell_type": "code",
   "execution_count": 47,
   "id": "a66a861d-472f-4249-ae76-1a40128093d0",
   "metadata": {},
   "outputs": [
    {
     "name": "stdout",
     "output_type": "stream",
     "text": [
      "0\n",
      "1\n",
      "2\n",
      "3\n",
      "4\n"
     ]
    }
   ],
   "source": [
    "#while loop>>using break statement>>break the statement and exit out of loop and does not execute further code below break\n",
    "n=10\n",
    "i=0\n",
    "while i<=10:\n",
    "    print(i)\n",
    "    i=i+1\n",
    "    if i==5:\n",
    "        break\n",
    "else:\n",
    "    print(\"Successfully executed\")"
   ]
  },
  {
   "cell_type": "code",
   "execution_count": 48,
   "id": "227157ae-1d58-4fd5-b73c-d9eb8f5b04b7",
   "metadata": {},
   "outputs": [
    {
     "name": "stdout",
     "output_type": "stream",
     "text": [
      "soap\n",
      "handwash\n",
      "chocolates\n",
      "facewash\n",
      "Successfully executed\n"
     ]
    }
   ],
   "source": [
    "#for loop>>using conditionals\n",
    "grocery_list=[\"soap\",\"handwash\",\"chocolates\",\"facewash\"]\n",
    "for i in grocery_list:\n",
    "    print(i)\n",
    "else:\n",
    "    print(\"Successfully executed\")"
   ]
  },
  {
   "cell_type": "code",
   "execution_count": 50,
   "id": "4bbcaa9e-c933-4ee1-a036-4efbe75b0e5d",
   "metadata": {},
   "outputs": [
    {
     "name": "stdout",
     "output_type": "stream",
     "text": [
      "soap\n",
      "chocolates\n",
      "facewash\n",
      "Successfully executed\n"
     ]
    }
   ],
   "source": [
    "#for loop>>using continue statement>>continue statement only skip that iteration only and execute the further code.\n",
    "grocery_list=[\"soap\",\"handwash\",\"chocolates\",\"facewash\"]\n",
    "for i in grocery_list:\n",
    "    if i==\"handwash\":\n",
    "        continue\n",
    "    print(i)\n",
    "else:\n",
    "    print(\"Successfully executed\")"
   ]
  }
 ],
 "metadata": {
  "kernelspec": {
   "display_name": "Python 3 (ipykernel)",
   "language": "python",
   "name": "python3"
  },
  "language_info": {
   "codemirror_mode": {
    "name": "ipython",
    "version": 3
   },
   "file_extension": ".py",
   "mimetype": "text/x-python",
   "name": "python",
   "nbconvert_exporter": "python",
   "pygments_lexer": "ipython3",
   "version": "3.10.8"
  }
 },
 "nbformat": 4,
 "nbformat_minor": 5
}
